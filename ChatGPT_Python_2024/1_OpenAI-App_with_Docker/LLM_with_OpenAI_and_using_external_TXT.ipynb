{
 "cells": [
  {
   "cell_type": "markdown",
   "metadata": {},
   "source": [
    "# <h1 align=\"center\"><font color=\"red\">LLM with OpenAI and using external TXT</font></h1>"
   ]
  },
  {
   "cell_type": "markdown",
   "metadata": {},
   "source": [
    "<font color=\"pink\">Senior Data Scientist.: Dr. Eddy Giusepe Chirinos Isidro</font>"
   ]
  },
  {
   "cell_type": "markdown",
   "metadata": {},
   "source": [
    "Baseado no toturial de [Kamal B Dhungana]()"
   ]
  },
  {
   "cell_type": "code",
   "execution_count": 13,
   "metadata": {},
   "outputs": [],
   "source": [
    "import openai\n",
    "import os\n",
    "from dotenv import load_dotenv, find_dotenv\n",
    "_ = load_dotenv(find_dotenv()) # read local .env file\n",
    "#openai.api_key  = os.environ['OPENAI_API_KEY']\n",
    "Eddy_key_openai  = os.environ['OPENAI_API_KEY']\n",
    "\n",
    "from openai import OpenAI\n",
    "client = OpenAI(api_key=Eddy_key_openai)\n"
   ]
  },
  {
   "cell_type": "code",
   "execution_count": 14,
   "metadata": {},
   "outputs": [],
   "source": [
    "from langchain_openai import ChatOpenAI\n",
    "from langchain_core.prompts import PromptTemplate\n",
    "\n",
    "\n",
    "llm = ChatOpenAI(model=\"gpt-4o-2024-11-20\",\n",
    "                 temperature=0.0,\n",
    "                 )"
   ]
  },
  {
   "cell_type": "code",
   "execution_count": 6,
   "metadata": {},
   "outputs": [
    {
     "name": "stdout",
     "output_type": "stream",
     "text": [
      "/home/eddygiusepe/2_EddyGiusepe_Estudo/Learning_Class_in_Python/ChatGPT_Python_2024/1_OpenAI-App\n",
      "--2024-12-08 15:56:42--  https://raw.githubusercontent.com/DhunganaKB/OpenAI-App/refs/heads/llm-app/input_text.txt\n",
      "Resolving raw.githubusercontent.com (raw.githubusercontent.com)... 2606:50c0:8001::154, 2606:50c0:8000::154, 2606:50c0:8003::154, ...\n",
      "Connecting to raw.githubusercontent.com (raw.githubusercontent.com)|2606:50c0:8001::154|:443... connected.\n",
      "HTTP request sent, awaiting response... "
     ]
    },
    {
     "name": "stderr",
     "output_type": "stream",
     "text": [
      "/home/eddygiusepe/2_EddyGiusepe_Estudo/Learning_Class_in_Python/venv_class/lib/python3.10/site-packages/IPython/core/magics/osm.py:417: UserWarning: This is now an optional IPython functionality, setting dhist requires you to install the `pickleshare` library.\n",
      "  self.shell.db['dhist'] = compress_dhist(dhist)[-100:]\n"
     ]
    },
    {
     "name": "stdout",
     "output_type": "stream",
     "text": [
      "200 OK\n",
      "Length: 4634 (4,5K) [text/plain]\n",
      "Saving to: ‘input_text.txt’\n",
      "\n",
      "input_text.txt      100%[===================>]   4,53K  --.-KB/s    in 0s      \n",
      "\n",
      "2024-12-08 15:56:42 (56,8 MB/s) - ‘input_text.txt’ saved [4634/4634]\n",
      "\n"
     ]
    }
   ],
   "source": [
    "# Baixando o arquivo TXT com wget:\n",
    "%cd /home/eddygiusepe/2_EddyGiusepe_Estudo/Learning_Class_in_Python/ChatGPT_Python_2024/1_OpenAI-App\n",
    "\n",
    "!wget https://raw.githubusercontent.com/DhunganaKB/OpenAI-App/refs/heads/llm-app/input_text.txt"
   ]
  },
  {
   "cell_type": "code",
   "execution_count": 15,
   "metadata": {},
   "outputs": [],
   "source": [
    "# We upload our input_text.txt file to the LLM:\n",
    "with open(\"./input_text.txt\", \"r\") as file:\n",
    "    input_text = file.read() # Reads the entire file "
   ]
  },
  {
   "cell_type": "code",
   "execution_count": 16,
   "metadata": {},
   "outputs": [
    {
     "name": "stdout",
     "output_type": "stream",
     "text": [
      "The 2024 United States presidential election, held on November 5, featured Republican candidate Donald Trump and Democratic candidate Kamala Harris. Trump, who previously served as the 45th president from 2017 to 2021, sought a non-consecutive second term, while Harris, the incumbent vice president, aimed to become the first female president.\n",
      "\n",
      "**Election Outcome:**\n",
      "\n",
      "Donald Trump secured the presidency with 312 electoral votes, surpassing the 270 required to win. Kamala Harris garnered 226 electoral votes. In the popular vote, Trump led by approximately 1.6%, marking a significant political comeback. \n",
      "\n",
      "**State-by-State Results:**\n",
      "\n",
      "Below is a summary of the election results by state, including the electoral votes and the percentage of the popular vote each candidate received:\n",
      "\n",
      "| State             | Electoral Votes | Trump (%) | Harris (%) |\n",
      "|-------------------|-----------------|-----------|------------|\n",
      "| Alabama           | 9               | 65%       | 34%        |\n",
      "| Alaska            | 3               | 55%       | 41%        |\n",
      "| Arizona           | 11              | 52%       | 47%        |\n",
      "| Arkansas          | 6               | 64%       | 34%        |\n",
      "| California        | 54              | 36%       | 61%        |\n",
      "| Colorado          | 10              | 44%       | 53%        |\n",
      "| Connecticut       | 7               | 46%       | 52%        |\n",
      "| Delaware          | 3               | 45%       | 53%        |\n",
      "| Florida           | 30              | 56%       | 43%        |\n",
      "| Georgia           | 16              | 51%       | 49%        |\n",
      "| Hawaii            | 4               | 37%       | 61%        |\n",
      "| Idaho             | 4               | 67%       | 30%        |\n",
      "| Illinois          | 19              | 44%       | 55%        |\n",
      "| Indiana           | 11              | 59%       | 40%        |\n",
      "| Iowa              | 6               | 56%       | 43%        |\n",
      "| Kansas            | 6               | 57%       | 41%        |\n",
      "| Kentucky          | 8               | 65%       | 34%        |\n",
      "| Louisiana         | 8               | 60%       | 38%        |\n",
      "| Maine             | 4               | 46%       | 52%        |\n",
      "| Maryland          | 10              | 35%       | 63%        |\n",
      "| Massachusetts     | 11              | 36%       | 61%        |\n",
      "| Michigan          | 15              | 50%       | 48%        |\n",
      "| Minnesota         | 10              | 51%       | 47%        |\n",
      "| Mississippi       | 6               | 61%       | 37%        |\n",
      "| Missouri          | 10              | 58%       | 40%        |\n",
      "| Montana           | 4               | 58%       | 38%        |\n",
      "| Nebraska          | 5               | 60%       | 39%        |\n",
      "| Nevada            | 6               | 51%       | 47%        |\n",
      "| New Hampshire     | 4               | 47%       | 52%        |\n",
      "| New Jersey        | 14              | 46%       | 52%        |\n",
      "| New Mexico        | 5               | 45%       | 53%        |\n",
      "| New York          | 28              | 44%       | 55%        |\n",
      "| North Carolina    | 16              | 51%       | 48%        |\n",
      "| North Dakota      | 3               | 67%       | 31%        |\n",
      "| Ohio              | 17              | 55%       | 44%        |\n",
      "| Oklahoma          | 7               | 66%       | 32%        |\n",
      "| Oregon            | 7               | 41%       | 55%        |\n",
      "| Pennsylvania      | 19              | 50%       | 49%        |\n",
      "| Rhode Island      | 4               | 42%       | 55%        |\n",
      "| South Carolina    | 9               | 58%       | 40%        |\n",
      "| South Dakota      | 3               | 63%       | 34%        |\n",
      "| Tennessee         | 11              | 64%       | 34%        |\n",
      "| Texas             | 40              | 56%       | 42%        |\n",
      "| Utah              | 6               | 59%       | 38%        |\n",
      "| Vermont           | 3               | 32%       | 64%        |\n",
      "| Virginia          | 13              | 47%       | 52%        |\n",
      "| Washington        | 12              | 39%       | 58%        |\n",
      "| West Virginia     | 4               | 70%       | 28%        |\n",
      "| Wisconsin         | 10              | 50%       | 49%        |\n",
      "| Wyoming           | 3               | 72%       | 26%        |\n",
      "\n",
      "*Note: Percentages are approximate and based on reported data.*\n",
      "\n",
      "Trump's victories in key battleground states such as Pennsylvania, Michigan, and Wisconsin were pivotal to his electoral success. Notably, he regained these states, often referred to as the \"Blue Wall,\" which had been Democratic strongholds in previous elections. \n",
      "\n",
      "This election marked the first time since Grover Cleveland in 1892 that a former president was elected to a non-consecutive second term.\n"
     ]
    }
   ],
   "source": [
    "print(input_text)"
   ]
  },
  {
   "cell_type": "code",
   "execution_count": 17,
   "metadata": {},
   "outputs": [],
   "source": [
    "template = \"\"\"\n",
    "           Você é um analista político e foi solicitado a analisar a eleição presidencial dos Estados Unidos de 2024\n",
    "           com base nas informações fornecidas abaixo.\n",
    "\n",
    "           {input_text}\n",
    "           \n",
    "           Por favor, gere uma concisa e clara resposta para a questão.\n",
    "           Questão: {question}\n",
    "\n",
    "           Resposta:\n",
    "           \"\"\"\n",
    "\n",
    "prompt_template = PromptTemplate(template=template, input_variables=[\"input_text\", \"question\"])\n"
   ]
  },
  {
   "cell_type": "code",
   "execution_count": 18,
   "metadata": {},
   "outputs": [],
   "source": [
    "def response_function(question):\n",
    "    final_prompt = prompt_template.format(input_text=input_text, question=question)\n",
    "    response = llm.invoke(final_prompt)\n",
    "    return response.content"
   ]
  },
  {
   "cell_type": "code",
   "execution_count": 19,
   "metadata": {},
   "outputs": [
    {
     "name": "stdout",
     "output_type": "stream",
     "text": [
      "Donald Trump venceu as eleições presidenciais dos Estados Unidos de 2024, conquistando 312 votos no Colégio Eleitoral e superando Kamala Harris, que obteve 226 votos.\n"
     ]
    }
   ],
   "source": [
    "answer = response_function(\"Quem ganhou as eleições presidenciais dos Estados Unidos de 2024?\")\n",
    "print(answer)\n"
   ]
  },
  {
   "cell_type": "code",
   "execution_count": 20,
   "metadata": {},
   "outputs": [
    {
     "name": "stdout",
     "output_type": "stream",
     "text": [
      "A porcentagem de votos no estado de Alabama foi 65% para Donald Trump e 34% para Kamala Harris.\n"
     ]
    }
   ],
   "source": [
    "answer = response_function(\"Qual foi a porcentagem de votos no estado de Alabama?\")\n",
    "print(answer)"
   ]
  }
 ],
 "metadata": {
  "kernelspec": {
   "display_name": "venv_class",
   "language": "python",
   "name": "python3"
  },
  "language_info": {
   "codemirror_mode": {
    "name": "ipython",
    "version": 3
   },
   "file_extension": ".py",
   "mimetype": "text/x-python",
   "name": "python",
   "nbconvert_exporter": "python",
   "pygments_lexer": "ipython3",
   "version": "3.10.12"
  }
 },
 "nbformat": 4,
 "nbformat_minor": 2
}
