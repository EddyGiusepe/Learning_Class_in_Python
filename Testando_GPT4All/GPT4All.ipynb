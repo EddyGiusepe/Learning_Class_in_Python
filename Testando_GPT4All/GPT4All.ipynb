{
 "cells": [
  {
   "cell_type": "markdown",
   "metadata": {},
   "source": [
    "# <h1 align=\"center\"><font color=\"red\">Experimente os LLMs do GPT4All</font></h1>"
   ]
  },
  {
   "cell_type": "markdown",
   "metadata": {},
   "source": [
    "<font color=\"yellow\">Data Scientist.: Dr. Eddy Giusepe Chirinos Isidro</font>"
   ]
  },
  {
   "cell_type": "markdown",
   "metadata": {},
   "source": [
    "Link de estudo:\n",
    "\n",
    "* [Blog do Jason Brownlee PhD](https://machinelearningmastery.com/get-a-taste-of-llms-from-gpt4all/?utm_source=drip&utm_medium=email&utm_campaign=Garage+or+Not%3F+Housing+Insights+Through+the+Chi-Squared+Test+for+Ames%2C+Iowa&utm_content=Garage+or+Not%3F)"
   ]
  },
  {
   "cell_type": "markdown",
   "metadata": {},
   "source": [
    "# <font color=\"gree\">Contextualizando</font>"
   ]
  },
  {
   "cell_type": "markdown",
   "metadata": {},
   "source": [
    "Grandes modelos de linguagem tornaram-se populares recentemente. `ChatGPT` está na moda. Experimentar o ChatGPT para entender do que se trata os `LLMs` é fácil, mas às vezes você pode querer uma alternativa `offline` que possa ser executada no seu computador. Neste Notebook, você aprenderá sobre o `GPT4All` como um `LLM` que pode ser instalado no seu computador. Em particular, você aprenderá\n",
    "\n",
    "* O que é `GPT4All`?\n",
    "\n",
    "* Como instalar o cliente desktop para `GPT4All`\n",
    "\n",
    "* Como executar `GPT4All` em `Python`"
   ]
  },
  {
   "cell_type": "markdown",
   "metadata": {},
   "source": [
    "# <font color=\"gree\">Como obter GPT4All?</font>"
   ]
  },
  {
   "cell_type": "markdown",
   "metadata": {},
   "source": [
    "Vamos nos concentrar apenas no uso dos modelos `pré-treinados`.\n",
    "\n",
    "No momento deste estudo o, `GPT4All` estava disponível em [GPT4All](https://gpt4all.io/index.html), que você pode executar como um aplicativo de desktop ou usando uma `biblioteca Python`. Você pode baixar o instalador do seu sistema operacional para executar um `cliente de desktop`. O cliente tem apenas algumas centenas de `MB`. "
   ]
  },
  {
   "cell_type": "markdown",
   "metadata": {},
   "source": [
    "# <font color=\"gree\">Como usar GPT4All em Python?</font>"
   ]
  },
  {
   "cell_type": "markdown",
   "metadata": {},
   "source": [
    "O componente principal do `GPT4All` é o modelo. O cliente de desktop é apenas uma interface para ele. Além do cliente, você também pode invocar o modelo através de uma `biblioteca Python`.\n",
    "\n",
    "A biblioteca é, sem surpresa, chamada de `“gpt4all”` e você pode instalá-la com o comando `pip`:\n",
    "\n",
    "```\n",
    "pip install gpt4all\n",
    "```"
   ]
  },
  {
   "cell_type": "code",
   "execution_count": 12,
   "metadata": {},
   "outputs": [],
   "source": [
    "from gpt4all import GPT4All\n",
    "\n",
    "\n",
    "model = GPT4All(\"orca-mini-3b-gguf2-q4_0.gguf\")\n",
    "\n",
    "output = model.generate(\"The capital of France is: \", max_tokens=50)\n"
   ]
  },
  {
   "cell_type": "code",
   "execution_count": 13,
   "metadata": {},
   "outputs": [
    {
     "name": "stdout",
     "output_type": "stream",
     "text": [
      "\n",
      "\n",
      "Paris, which is located in the northern central part of the country. Paris is the most populous city in France and is known for its iconic landmarks such as the Eiffel Tower, Notre-Dame Cathedral, and the Lou\n"
     ]
    }
   ],
   "source": [
    "print(output)"
   ]
  },
  {
   "cell_type": "code",
   "execution_count": 15,
   "metadata": {},
   "outputs": [
    {
     "name": "stdout",
     "output_type": "stream",
     "text": [
      " Sure, here's a list of 10 colors along with their RGB codes:\n",
      "\n",
      "1. Red (255, 0, 0)\n",
      "2. Green (0, 128, 0)\n",
      "3. Blue (0, 0, 255)\n",
      "4. Yellow (255, 255, 0)\n",
      "5. Magenta (0, 255, 0)\n",
      "6. Cyan (0, 255, 255)\n",
      "7. Orange (255, 165, 0)\n",
      "8. Brown (165, 42, 42)\n",
      "9. Grey (0, 128, 128)\n",
      "10. Pink (255, 192, 203)\n",
      "[{'content': '### System:\\n'\n",
      "             'You are an AI assistant that follows instruction extremely well. '\n",
      "             'Help as much as you can.',\n",
      "  'role': 'system'},\n",
      " {'content': 'Give me a list of 10 colors and their RGB code', 'role': 'user'},\n",
      " {'content': \" Sure, here's a list of 10 colors along with their RGB codes:\\n\"\n",
      "             '\\n'\n",
      "             '1. Red (255, 0, 0)\\n'\n",
      "             '2. Green (0, 128, 0)\\n'\n",
      "             '3. Blue (0, 0, 255)\\n'\n",
      "             '4. Yellow (255, 255, 0)\\n'\n",
      "             '5. Magenta (0, 255, 0)\\n'\n",
      "             '6. Cyan (0, 255, 255)\\n'\n",
      "             '7. Orange (255, 165, 0)\\n'\n",
      "             '8. Brown (165, 42, 42)\\n'\n",
      "             '9. Grey (0, 128, 128)\\n'\n",
      "             '10. Pink (255, 192, 203)',\n",
      "  'role': 'assistant'}]\n"
     ]
    }
   ],
   "source": [
    "import pprint\n",
    " \n",
    "import gpt4all\n",
    " \n",
    "model = GPT4All(\"orca-mini-3b-gguf2-q4_0.gguf\")\n",
    "with model.chat_session():\n",
    "    response = model.generate(\"Give me a list of 10 colors and their RGB code\")\n",
    "    print(response)\n",
    "    pprint.pprint(model.current_chat_session)\n",
    "    "
   ]
  },
  {
   "cell_type": "code",
   "execution_count": 16,
   "metadata": {},
   "outputs": [
    {
     "name": "stdout",
     "output_type": "stream",
     "text": [
      "Q: Can you explain what is a large language model?\n",
      "A:  A large language model, also known as a deep learning model or neural network, is a type of artificial intelligence system that is trained to generate human-like text by processing and analyzing vast amounts of text data. It uses a complex algorithm to analyze the patterns in the input text and then generates new text based on those patterns. The more data the model is trained on, the better it can generate text that is more coherent and meaningful than the original text. Large language models are used in various applications such as chatbots, virtual assistants, speech recognition, natural language processing, and many others.\n",
      "Q: Can you give some examples applications?\n",
      "A:  Sure! Some examples of applications that can be built using large language models include:\n",
      "- Chatbots that can understand and respond to human queries in a natural way.\n",
      "- Virtual assistants like Siri or Alexa that can understand and provide information on demand.\n",
      "- Speech recognition systems that can accurately transcribe spoken words into text.\n",
      "- Language translation tools that can translate text from one language to another with high accuracy.\n",
      "- Sentiment analysis tools that can analyze social media posts, reviews, and other online content to determine the sentiment behind them.\n",
      "Q: Are there any limitations?\n",
      "A:  Yes, there are some limitations of large language models. One limitation is that they require a significant amount of training data to achieve high accuracy in generating text. Additionally, they may produce biased or offensive output if trained on datasets with discriminatory patterns. Finally, their performance can be affected by the quality and quantity of the input data used for training.\n",
      "Q: Summarize the above in two sentences.\n",
      "A:  Large language models are AI systems that use deep learning to generate human-like text based on analyzing vast amounts of text data. They have various applications such as chatbots, virtual assistants, speech recognition, natural language processing, and more. However, they require a significant amount of training data and may produce biased or offensive output if trained on discriminatory patterns.\n",
      "[{'content': '### System:\\n'\n",
      "             'You are an AI assistant that follows instruction extremely well. '\n",
      "             'Help as much as you can.',\n",
      "  'role': 'system'},\n",
      " {'content': 'Can you explain what is a large language model?', 'role': 'user'},\n",
      " {'content': ' A large language model, also known as a deep learning model or '\n",
      "             'neural network, is a type of artificial intelligence system that '\n",
      "             'is trained to generate human-like text by processing and '\n",
      "             'analyzing vast amounts of text data. It uses a complex algorithm '\n",
      "             'to analyze the patterns in the input text and then generates new '\n",
      "             'text based on those patterns. The more data the model is trained '\n",
      "             'on, the better it can generate text that is more coherent and '\n",
      "             'meaningful than the original text. Large language models are '\n",
      "             'used in various applications such as chatbots, virtual '\n",
      "             'assistants, speech recognition, natural language processing, and '\n",
      "             'many others.',\n",
      "  'role': 'assistant'},\n",
      " {'content': 'Can you give some examples applications?', 'role': 'user'},\n",
      " {'content': ' Sure! Some examples of applications that can be built using '\n",
      "             'large language models include:\\n'\n",
      "             '- Chatbots that can understand and respond to human queries in a '\n",
      "             'natural way.\\n'\n",
      "             '- Virtual assistants like Siri or Alexa that can understand and '\n",
      "             'provide information on demand.\\n'\n",
      "             '- Speech recognition systems that can accurately transcribe '\n",
      "             'spoken words into text.\\n'\n",
      "             '- Language translation tools that can translate text from one '\n",
      "             'language to another with high accuracy.\\n'\n",
      "             '- Sentiment analysis tools that can analyze social media posts, '\n",
      "             'reviews, and other online content to determine the sentiment '\n",
      "             'behind them.',\n",
      "  'role': 'assistant'},\n",
      " {'content': 'Are there any limitations?', 'role': 'user'},\n",
      " {'content': ' Yes, there are some limitations of large language models. One '\n",
      "             'limitation is that they require a significant amount of training '\n",
      "             'data to achieve high accuracy in generating text. Additionally, '\n",
      "             'they may produce biased or offensive output if trained on '\n",
      "             'datasets with discriminatory patterns. Finally, their '\n",
      "             'performance can be affected by the quality and quantity of the '\n",
      "             'input data used for training.',\n",
      "  'role': 'assistant'},\n",
      " {'content': 'Summarize the above in two sentences.', 'role': 'user'},\n",
      " {'content': ' Large language models are AI systems that use deep learning to '\n",
      "             'generate human-like text based on analyzing vast amounts of text '\n",
      "             'data. They have various applications such as chatbots, virtual '\n",
      "             'assistants, speech recognition, natural language processing, and '\n",
      "             'more. However, they require a significant amount of training '\n",
      "             'data and may produce biased or offensive output if trained on '\n",
      "             'discriminatory patterns.',\n",
      "  'role': 'assistant'}]\n"
     ]
    }
   ],
   "source": [
    "\n",
    "import pprint\n",
    " \n",
    "import gpt4all\n",
    " \n",
    "model = GPT4All(\"orca-mini-3b-gguf2-q4_0.gguf\")\n",
    "with model.chat_session():\n",
    "    questions = [\n",
    "        \"Can you explain what is a large language model?\",\n",
    "        \"Can you give some examples applications?\",\n",
    "        \"Are there any limitations?\",\n",
    "        \"Summarize the above in two sentences.\",\n",
    "    ]\n",
    "    for question in questions:\n",
    "        answer = model.generate(question)\n",
    "        print(\"Q:\", question)\n",
    "        print(\"A:\", answer)\n",
    " \n",
    "    pprint.pprint(model.current_chat_session)"
   ]
  },
  {
   "cell_type": "markdown",
   "metadata": {},
   "source": [
    "Mas informação ver [GPT4All Documentation](https://docs.gpt4all.io/gpt4all_python.html)"
   ]
  }
 ],
 "metadata": {
  "kernelspec": {
   "display_name": "venv_class",
   "language": "python",
   "name": "python3"
  },
  "language_info": {
   "codemirror_mode": {
    "name": "ipython",
    "version": 3
   },
   "file_extension": ".py",
   "mimetype": "text/x-python",
   "name": "python",
   "nbconvert_exporter": "python",
   "pygments_lexer": "ipython3",
   "version": "3.10.12"
  }
 },
 "nbformat": 4,
 "nbformat_minor": 2
}
