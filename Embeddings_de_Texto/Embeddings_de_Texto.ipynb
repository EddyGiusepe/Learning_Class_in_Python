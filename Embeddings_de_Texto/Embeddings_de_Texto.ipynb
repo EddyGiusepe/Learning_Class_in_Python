{
 "cells": [
  {
   "cell_type": "markdown",
   "id": "cd70a007",
   "metadata": {},
   "source": [
    "# <h1 align=\"center\"><font color=\"red\">Embeddings de Texto</font></h1>"
   ]
  },
  {
   "cell_type": "markdown",
   "id": "692e5993",
   "metadata": {},
   "source": [
    "<font color=\"yellow\">Data Scientist.: Dr. Eddy Giusepe Chirinos Isidro</font>"
   ]
  },
  {
   "cell_type": "markdown",
   "id": "1e532542",
   "metadata": {},
   "source": [
    "Link de estudo:\n",
    "\n",
    "* [Medium: Embeddings](https://towardsdatascience.com/text-embeddings-comprehensive-guide-afd97fce8fb5)"
   ]
  },
  {
   "cell_type": "markdown",
   "id": "fc63a1da",
   "metadata": {},
   "source": [
    "<font color=\"orange\">Os `Embeddings` também são vetores números, podem capturar o significado. Assim, você pode utilizá-los para fazer uma busca `semântica` e até trabalhar com documentos em diferentes idiomas.</font>"
   ]
  },
  {
   "cell_type": "markdown",
   "id": "0602676d",
   "metadata": {},
   "source": [
    "# <font color=\"pink\">Evolução dos Embeddings</font>"
   ]
  },
  {
   "cell_type": "markdown",
   "id": "6a6a8f27",
   "metadata": {},
   "source": [
    "## <font color=\"gree\">Bag of Words</font>"
   ]
  },
  {
   "cell_type": "markdown",
   "id": "8f61bdee",
   "metadata": {},
   "source": [
    "Lembrando `stemização` (stemming) com NLTK Python:"
   ]
  },
  {
   "cell_type": "code",
   "execution_count": 4,
   "id": "17314d74-f0f5-4060-ade2-0c37e25dce37",
   "metadata": {},
   "outputs": [
    {
     "name": "stderr",
     "output_type": "stream",
     "text": [
      "[nltk_data] Downloading package punkt to\n",
      "[nltk_data]     /home/eddygiusepe/nltk_data...\n",
      "[nltk_data]   Package punkt is already up-to-date!\n",
      "[nltk_data] Downloading package stopwords to\n",
      "[nltk_data]     /home/eddygiusepe/nltk_data...\n",
      "[nltk_data]   Package stopwords is already up-to-date!\n"
     ]
    },
    {
     "data": {
      "text/plain": [
       "['Temos',\n",
       " 'sorte',\n",
       " 'de',\n",
       " 'viver',\n",
       " 'em',\n",
       " 'uma',\n",
       " 'época',\n",
       " 'em',\n",
       " 'que',\n",
       " 'ainda',\n",
       " 'estamos',\n",
       " 'fazendo',\n",
       " 'descobertas']"
      ]
     },
     "execution_count": 4,
     "metadata": {},
     "output_type": "execute_result"
    }
   ],
   "source": [
    "import nltk\n",
    "from nltk.stem import SnowballStemmer\n",
    "from nltk.tokenize import word_tokenize\n",
    "\n",
    "# Baixar o recursos necessários para o processamento em português:\n",
    "nltk.download('punkt')\n",
    "nltk.download('stopwords')\n",
    "\n",
    "# Stemmer para português:\n",
    "stemmer = SnowballStemmer(language='portuguese')\n",
    "\n",
    "\n",
    "text = 'Temos sorte de viver em uma época em que ainda estamos fazendo descobertas'\n",
    "\n",
    "# tokenization - splitting text into words:\n",
    "words = word_tokenize(text)\n",
    "\n",
    "words\n"
   ]
  },
  {
   "cell_type": "code",
   "execution_count": 6,
   "id": "6708cb46",
   "metadata": {},
   "outputs": [
    {
     "data": {
      "text/plain": [
       "['tem',\n",
       " 'sort',\n",
       " 'de',\n",
       " 'viv',\n",
       " 'em',\n",
       " 'uma',\n",
       " 'époc',\n",
       " 'em',\n",
       " 'que',\n",
       " 'aind',\n",
       " 'estam',\n",
       " 'faz',\n",
       " 'descobert']"
      ]
     },
     "execution_count": 6,
     "metadata": {},
     "output_type": "execute_result"
    }
   ],
   "source": [
    "stemmed_words = list(map(lambda x: stemmer.stem(x), words))\n",
    "\n",
    "stemmed_words"
   ]
  },
  {
   "cell_type": "markdown",
   "id": "4ceb2427",
   "metadata": {},
   "source": [
    "<font color=\"orange\">Agora, temos uma lista das formas básicas de todas as nossas palavras. O próximo passo é calcular suas frequências para criar um vetor.</font>"
   ]
  },
  {
   "cell_type": "code",
   "execution_count": null,
   "id": "4afd3c51",
   "metadata": {},
   "outputs": [],
   "source": [
    "import collections\n",
    "bag_of_words = collections.Counter(stemmed_words)\n",
    "print(bag_of_words)"
   ]
  },
  {
   "cell_type": "markdown",
   "id": "326c5963",
   "metadata": {},
   "source": []
  },
  {
   "cell_type": "markdown",
   "id": "19a7e35b",
   "metadata": {},
   "source": []
  }
 ],
 "metadata": {
  "kernelspec": {
   "display_name": "Python 3 (ipykernel)",
   "language": "python",
   "name": "python3"
  },
  "language_info": {
   "codemirror_mode": {
    "name": "ipython",
    "version": 3
   },
   "file_extension": ".py",
   "mimetype": "text/x-python",
   "name": "python",
   "nbconvert_exporter": "python",
   "pygments_lexer": "ipython3",
   "version": "3.10.12"
  }
 },
 "nbformat": 4,
 "nbformat_minor": 5
}
