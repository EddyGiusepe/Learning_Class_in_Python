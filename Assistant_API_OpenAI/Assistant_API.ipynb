{
 "cells": [
  {
   "cell_type": "markdown",
   "metadata": {},
   "source": [
    "# <h1 align=\"center\"><font color=\"red\">Assistants API </font></h1>"
   ]
  },
  {
   "cell_type": "markdown",
   "metadata": {},
   "source": [
    "<font color=\"yellow\">Data Scientist.: Dr. Eddy Giusepe Chirinos Isidro</font>"
   ]
  },
  {
   "cell_type": "markdown",
   "metadata": {},
   "source": [
    "Link de estudo:\n",
    "\n",
    "* [Medium: Assistants API ](https://medium.com/@pether.maciejewski/assistants-api-openai-real-world-simple-example-with-money-transfer-online-faq-31e5f8a9ca38)\n",
    "\n",
    "* [OpenAI: Assistants API ](https://platform.openai.com/docs/assistants/overview)"
   ]
  },
  {
   "cell_type": "markdown",
   "metadata": {},
   "source": [
    "# <font color=\"pink\">`Exemplo 1:` Assistente de AI</font>"
   ]
  },
  {
   "cell_type": "code",
   "execution_count": 1,
   "metadata": {},
   "outputs": [],
   "source": [
    "import openai\n",
    "import os\n",
    "from dotenv import load_dotenv, find_dotenv\n",
    "_ = load_dotenv(find_dotenv()) # read local .env file\n",
    "#openai.api_key  = os.environ['OPENAI_API_KEY']\n",
    "Eddy_key_openai  = os.environ['OPENAI_API_KEY']\n",
    "\n",
    "from openai import OpenAI\n",
    "client = OpenAI(api_key=Eddy_key_openai)\n"
   ]
  },
  {
   "cell_type": "code",
   "execution_count": 2,
   "metadata": {},
   "outputs": [
    {
     "data": {
      "text/plain": [
       "<openai.OpenAI at 0x7f3c7fe2b040>"
      ]
     },
     "execution_count": 2,
     "metadata": {},
     "output_type": "execute_result"
    }
   ],
   "source": [
    "\n",
    "client"
   ]
  },
  {
   "cell_type": "code",
   "execution_count": 3,
   "metadata": {},
   "outputs": [],
   "source": [
    "# CRIAR ASSISTENTE:\n",
    "\n",
    "assistant = client.beta.assistants.create(\n",
    "    name=\"Tutor de matemática\",\n",
    "    instructions=\"Você é um tutor pessoal de matemática. Escreva e execute código para responder questões matemáticas.\",\n",
    "    tools=[{\"type\": \"code_interpreter\"}],\n",
    "    model=\"gpt-4-1106-preview\"\n",
    ")\n"
   ]
  },
  {
   "cell_type": "code",
   "execution_count": 4,
   "metadata": {},
   "outputs": [
    {
     "data": {
      "text/plain": [
       "Assistant(id='asst_9RfVkknWsPkBkOHrh0M8S5qo', created_at=1709243620, description=None, file_ids=[], instructions='Você é um tutor pessoal de matemática. Escreva e execute código para responder questões matemáticas.', metadata={}, model='gpt-4-1106-preview', name='Tutor de matemática', object='assistant', tools=[ToolCodeInterpreter(type='code_interpreter')])"
      ]
     },
     "execution_count": 4,
     "metadata": {},
     "output_type": "execute_result"
    }
   ],
   "source": [
    "assistant"
   ]
  },
  {
   "cell_type": "code",
   "execution_count": 5,
   "metadata": {},
   "outputs": [
    {
     "data": {
      "text/plain": [
       "Thread(id='thread_EJzKPINpsY6fwEqBA3NfE94n', created_at=1709243703, metadata={}, object='thread')"
      ]
     },
     "execution_count": 5,
     "metadata": {},
     "output_type": "execute_result"
    }
   ],
   "source": [
    "# CRIAR UM TÓPICO:\n",
    "\n",
    "thread = client.beta.threads.create()\n",
    "thread"
   ]
  },
  {
   "cell_type": "code",
   "execution_count": 6,
   "metadata": {},
   "outputs": [
    {
     "data": {
      "text/plain": [
       "ThreadMessage(id='msg_W3tRNRux9YlmtMm7XR6flfkW', assistant_id=None, content=[MessageContentText(text=Text(annotations=[], value='Preciso resolver a equação `3x + 11 = 14`. Pode me ajudar?'), type='text')], created_at=1709243734, file_ids=[], metadata={}, object='thread.message', role='user', run_id=None, thread_id='thread_EJzKPINpsY6fwEqBA3NfE94n')"
      ]
     },
     "execution_count": 6,
     "metadata": {},
     "output_type": "execute_result"
    }
   ],
   "source": [
    "message = client.beta.threads.messages.create(\n",
    "    thread_id=thread.id,\n",
    "    role=\"user\",\n",
    "    content=\"Preciso resolver a equação `3x + 11 = 14`. Pode me ajudar?\"\n",
    ")\n",
    "\n",
    "\n",
    "message"
   ]
  },
  {
   "cell_type": "code",
   "execution_count": 7,
   "metadata": {},
   "outputs": [
    {
     "data": {
      "text/plain": [
       "Run(id='run_gBZRigpq3bWDA7MY03nHQcRw', assistant_id='asst_9RfVkknWsPkBkOHrh0M8S5qo', cancelled_at=None, completed_at=None, created_at=1709243825, expires_at=1709244425, failed_at=None, file_ids=[], instructions='Por favor, dirija-se ao usuário como Jane Doe. O usuário possui uma conta premium.', last_error=None, metadata={}, model='gpt-4-1106-preview', object='thread.run', required_action=None, started_at=None, status='queued', thread_id='thread_EJzKPINpsY6fwEqBA3NfE94n', tools=[ToolAssistantToolsCode(type='code_interpreter')], usage=None)"
      ]
     },
     "execution_count": 7,
     "metadata": {},
     "output_type": "execute_result"
    }
   ],
   "source": [
    "run = client.beta.threads.runs.create(\n",
    "  thread_id=thread.id,\n",
    "  assistant_id=assistant.id,\n",
    "  instructions=\"Por favor, dirija-se ao usuário como Jane Doe. O usuário possui uma conta premium.\"\n",
    ")\n",
    "\n",
    "\n",
    "run"
   ]
  },
  {
   "cell_type": "code",
   "execution_count": 8,
   "metadata": {},
   "outputs": [
    {
     "data": {
      "text/plain": [
       "Run(id='run_gBZRigpq3bWDA7MY03nHQcRw', assistant_id='asst_9RfVkknWsPkBkOHrh0M8S5qo', cancelled_at=None, completed_at=1709243834, created_at=1709243825, expires_at=None, failed_at=None, file_ids=[], instructions='Por favor, dirija-se ao usuário como Jane Doe. O usuário possui uma conta premium.', last_error=None, metadata={}, model='gpt-4-1106-preview', object='thread.run', required_action=None, started_at=1709243825, status='completed', thread_id='thread_EJzKPINpsY6fwEqBA3NfE94n', tools=[ToolAssistantToolsCode(type='code_interpreter')], usage=Usage(completion_tokens=104, prompt_tokens=383, total_tokens=487))"
      ]
     },
     "execution_count": 8,
     "metadata": {},
     "output_type": "execute_result"
    }
   ],
   "source": [
    "run = client.beta.threads.runs.retrieve(\n",
    "  thread_id=thread.id,\n",
    "  run_id=run.id\n",
    ")\n",
    "\n",
    "run"
   ]
  },
  {
   "cell_type": "code",
   "execution_count": 9,
   "metadata": {},
   "outputs": [
    {
     "data": {
      "text/plain": [
       "SyncCursorPage[ThreadMessage](data=[ThreadMessage(id='msg_BMC6MNO9eXhyBlismF0ocHZf', assistant_id='asst_9RfVkknWsPkBkOHrh0M8S5qo', content=[MessageContentText(text=Text(annotations=[], value='Claro, Jane Doe. A solução da equação \\\\(3x + 11 = 14\\\\) é \\\\(x = 1\\\\).'), type='text')], created_at=1709243834, file_ids=[], metadata={}, object='thread.message', role='assistant', run_id='run_gBZRigpq3bWDA7MY03nHQcRw', thread_id='thread_EJzKPINpsY6fwEqBA3NfE94n'), ThreadMessage(id='msg_W3tRNRux9YlmtMm7XR6flfkW', assistant_id=None, content=[MessageContentText(text=Text(annotations=[], value='Preciso resolver a equação `3x + 11 = 14`. Pode me ajudar?'), type='text')], created_at=1709243734, file_ids=[], metadata={}, object='thread.message', role='user', run_id=None, thread_id='thread_EJzKPINpsY6fwEqBA3NfE94n')], object='list', first_id='msg_BMC6MNO9eXhyBlismF0ocHZf', last_id='msg_W3tRNRux9YlmtMm7XR6flfkW', has_more=False)"
      ]
     },
     "execution_count": 9,
     "metadata": {},
     "output_type": "execute_result"
    }
   ],
   "source": [
    "messages = client.beta.threads.messages.list(\n",
    "  thread_id=thread.id\n",
    ")\n",
    "\n",
    "messages"
   ]
  },
  {
   "cell_type": "code",
   "execution_count": 10,
   "metadata": {},
   "outputs": [
    {
     "data": {
      "text/plain": [
       "'Claro, Jane Doe. A solução da equação \\\\(3x + 11 = 14\\\\) é \\\\(x = 1\\\\).'"
      ]
     },
     "execution_count": 10,
     "metadata": {},
     "output_type": "execute_result"
    }
   ],
   "source": [
    "new_message = messages.data[0].content[0].text.value\n",
    "\n",
    "new_message"
   ]
  },
  {
   "cell_type": "markdown",
   "metadata": {},
   "source": [
    "# <font color=\"pink\">`Exemplo 2:` Assistente de AI</font>"
   ]
  },
  {
   "cell_type": "code",
   "execution_count": null,
   "metadata": {},
   "outputs": [],
   "source": [
    "# CARREGAR ARQUIVO (BASE DE CONHECIMENTO)\n",
    "\n",
    "file = client.files.create(\n",
    "  file=open(\"WUpricing.pdf\", \"rb\"),\n",
    "  purpose='assistants'\n",
    ")"
   ]
  },
  {
   "cell_type": "code",
   "execution_count": null,
   "metadata": {},
   "outputs": [],
   "source": []
  },
  {
   "cell_type": "code",
   "execution_count": null,
   "metadata": {},
   "outputs": [],
   "source": []
  },
  {
   "cell_type": "code",
   "execution_count": null,
   "metadata": {},
   "outputs": [],
   "source": []
  },
  {
   "cell_type": "code",
   "execution_count": null,
   "metadata": {},
   "outputs": [],
   "source": []
  },
  {
   "cell_type": "code",
   "execution_count": null,
   "metadata": {},
   "outputs": [],
   "source": []
  },
  {
   "cell_type": "code",
   "execution_count": null,
   "metadata": {},
   "outputs": [],
   "source": []
  },
  {
   "cell_type": "markdown",
   "metadata": {},
   "source": [
    "# <font color=\"pink\">`Exemplo 3:` Assistente de AI</font>"
   ]
  },
  {
   "cell_type": "markdown",
   "metadata": {},
   "source": []
  },
  {
   "cell_type": "code",
   "execution_count": null,
   "metadata": {},
   "outputs": [],
   "source": []
  },
  {
   "cell_type": "code",
   "execution_count": null,
   "metadata": {},
   "outputs": [],
   "source": []
  },
  {
   "cell_type": "code",
   "execution_count": null,
   "metadata": {},
   "outputs": [],
   "source": []
  },
  {
   "cell_type": "code",
   "execution_count": null,
   "metadata": {},
   "outputs": [],
   "source": []
  },
  {
   "cell_type": "markdown",
   "metadata": {},
   "source": [
    "# <font color=\"pink\">`Exemplo 4:` Assistente de AI</font>"
   ]
  },
  {
   "cell_type": "markdown",
   "metadata": {},
   "source": []
  }
 ],
 "metadata": {
  "kernelspec": {
   "display_name": "venv_class",
   "language": "python",
   "name": "python3"
  },
  "language_info": {
   "codemirror_mode": {
    "name": "ipython",
    "version": 3
   },
   "file_extension": ".py",
   "mimetype": "text/x-python",
   "name": "python",
   "nbconvert_exporter": "python",
   "pygments_lexer": "ipython3",
   "version": "3.10.12"
  }
 },
 "nbformat": 4,
 "nbformat_minor": 2
}
