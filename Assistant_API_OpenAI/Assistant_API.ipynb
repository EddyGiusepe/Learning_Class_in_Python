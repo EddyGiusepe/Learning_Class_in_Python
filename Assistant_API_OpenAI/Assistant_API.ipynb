{
 "cells": [
  {
   "cell_type": "markdown",
   "metadata": {},
   "source": [
    "# <h1 align=\"center\"><font color=\"red\">Assistants API </font></h1>"
   ]
  },
  {
   "cell_type": "markdown",
   "metadata": {},
   "source": [
    "<font color=\"yellow\">Data Scientist.: Dr. Eddy Giusepe Chirinos Isidro</font>"
   ]
  },
  {
   "cell_type": "markdown",
   "metadata": {},
   "source": [
    "Link de estudo:\n",
    "\n",
    "* [Medium: Assistants API ](https://medium.com/@pether.maciejewski/assistants-api-openai-real-world-simple-example-with-money-transfer-online-faq-31e5f8a9ca38)\n",
    "\n",
    "* [OpenAI: Assistants API ](https://platform.openai.com/docs/assistants/overview)"
   ]
  },
  {
   "cell_type": "markdown",
   "metadata": {},
   "source": [
    "# <font color=\"pink\">`Exemplo 1:` Assistente de AI</font>"
   ]
  },
  {
   "cell_type": "code",
   "execution_count": 1,
   "metadata": {},
   "outputs": [],
   "source": [
    "import openai\n",
    "import os\n",
    "from dotenv import load_dotenv, find_dotenv\n",
    "_ = load_dotenv(find_dotenv()) # read local .env file\n",
    "#openai.api_key  = os.environ['OPENAI_API_KEY']\n",
    "Eddy_key_openai  = os.environ['OPENAI_API_KEY']\n",
    "\n",
    "from openai import OpenAI\n",
    "client = OpenAI(api_key=Eddy_key_openai)\n"
   ]
  },
  {
   "cell_type": "code",
   "execution_count": 2,
   "metadata": {},
   "outputs": [
    {
     "data": {
      "text/plain": [
       "<openai.OpenAI at 0x7f5fec455ba0>"
      ]
     },
     "execution_count": 2,
     "metadata": {},
     "output_type": "execute_result"
    }
   ],
   "source": [
    "\n",
    "client"
   ]
  },
  {
   "cell_type": "code",
   "execution_count": 3,
   "metadata": {},
   "outputs": [],
   "source": [
    "# CRIAR ASSISTENTE:\n",
    "\n",
    "assistant = client.beta.assistants.create(\n",
    "    name=\"Tutor de matemática\",\n",
    "    instructions=\"Você é um tutor pessoal de matemática. Escreva e execute código para responder questões matemáticas.\",\n",
    "    tools=[{\"type\": \"code_interpreter\"}],\n",
    "    model=\"gpt-4-1106-preview\"\n",
    ")\n"
   ]
  },
  {
   "cell_type": "code",
   "execution_count": 4,
   "metadata": {},
   "outputs": [
    {
     "data": {
      "text/plain": [
       "Assistant(id='asst_wW7zBl1HF9k20lvvqFWzQ8Ua', created_at=1709245070, description=None, file_ids=[], instructions='Você é um tutor pessoal de matemática. Escreva e execute código para responder questões matemáticas.', metadata={}, model='gpt-4-1106-preview', name='Tutor de matemática', object='assistant', tools=[ToolCodeInterpreter(type='code_interpreter')])"
      ]
     },
     "execution_count": 4,
     "metadata": {},
     "output_type": "execute_result"
    }
   ],
   "source": [
    "assistant"
   ]
  },
  {
   "cell_type": "code",
   "execution_count": 5,
   "metadata": {},
   "outputs": [
    {
     "data": {
      "text/plain": [
       "Thread(id='thread_H6JVYYouTCiLqXmTr5DXT7o3', created_at=1709245071, metadata={}, object='thread')"
      ]
     },
     "execution_count": 5,
     "metadata": {},
     "output_type": "execute_result"
    }
   ],
   "source": [
    "# CRIAR UM TÓPICO:\n",
    "\n",
    "thread = client.beta.threads.create()\n",
    "thread"
   ]
  },
  {
   "cell_type": "code",
   "execution_count": 6,
   "metadata": {},
   "outputs": [
    {
     "data": {
      "text/plain": [
       "ThreadMessage(id='msg_H9LmJ1hWRfZzxGoTB3rdHUnB', assistant_id=None, content=[MessageContentText(text=Text(annotations=[], value='Preciso resolver a equação `3x + 11 = 14`. Pode me ajudar?'), type='text')], created_at=1709245071, file_ids=[], metadata={}, object='thread.message', role='user', run_id=None, thread_id='thread_H6JVYYouTCiLqXmTr5DXT7o3')"
      ]
     },
     "execution_count": 6,
     "metadata": {},
     "output_type": "execute_result"
    }
   ],
   "source": [
    "message = client.beta.threads.messages.create(\n",
    "    thread_id=thread.id,\n",
    "    role=\"user\",\n",
    "    content=\"Preciso resolver a equação `3x + 11 = 14`. Pode me ajudar?\"\n",
    ")\n",
    "\n",
    "\n",
    "message"
   ]
  },
  {
   "cell_type": "code",
   "execution_count": 7,
   "metadata": {},
   "outputs": [
    {
     "data": {
      "text/plain": [
       "Run(id='run_ZvRWXnoC0bhBayRPdSRQTmFk', assistant_id='asst_wW7zBl1HF9k20lvvqFWzQ8Ua', cancelled_at=None, completed_at=None, created_at=1709245072, expires_at=1709245672, failed_at=None, file_ids=[], instructions='Por favor, dirija-se ao usuário como Jane Doe. O usuário possui uma conta premium.', last_error=None, metadata={}, model='gpt-4-1106-preview', object='thread.run', required_action=None, started_at=None, status='queued', thread_id='thread_H6JVYYouTCiLqXmTr5DXT7o3', tools=[ToolAssistantToolsCode(type='code_interpreter')], usage=None)"
      ]
     },
     "execution_count": 7,
     "metadata": {},
     "output_type": "execute_result"
    }
   ],
   "source": [
    "run = client.beta.threads.runs.create(\n",
    "  thread_id=thread.id,\n",
    "  assistant_id=assistant.id,\n",
    "  instructions=\"Por favor, dirija-se ao usuário como Jane Doe. O usuário possui uma conta premium.\"\n",
    ")\n",
    "\n",
    "\n",
    "run"
   ]
  },
  {
   "cell_type": "code",
   "execution_count": 8,
   "metadata": {},
   "outputs": [
    {
     "data": {
      "text/plain": [
       "Run(id='run_ZvRWXnoC0bhBayRPdSRQTmFk', assistant_id='asst_wW7zBl1HF9k20lvvqFWzQ8Ua', cancelled_at=None, completed_at=None, created_at=1709245072, expires_at=1709245672, failed_at=None, file_ids=[], instructions='Por favor, dirija-se ao usuário como Jane Doe. O usuário possui uma conta premium.', last_error=None, metadata={}, model='gpt-4-1106-preview', object='thread.run', required_action=None, started_at=1709245072, status='in_progress', thread_id='thread_H6JVYYouTCiLqXmTr5DXT7o3', tools=[ToolAssistantToolsCode(type='code_interpreter')], usage=None)"
      ]
     },
     "execution_count": 8,
     "metadata": {},
     "output_type": "execute_result"
    }
   ],
   "source": [
    "run = client.beta.threads.runs.retrieve(\n",
    "  thread_id=thread.id,\n",
    "  run_id=run.id\n",
    ")\n",
    "\n",
    "run"
   ]
  },
  {
   "cell_type": "code",
   "execution_count": 9,
   "metadata": {},
   "outputs": [
    {
     "data": {
      "text/plain": [
       "SyncCursorPage[ThreadMessage](data=[ThreadMessage(id='msg_H9LmJ1hWRfZzxGoTB3rdHUnB', assistant_id=None, content=[MessageContentText(text=Text(annotations=[], value='Preciso resolver a equação `3x + 11 = 14`. Pode me ajudar?'), type='text')], created_at=1709245071, file_ids=[], metadata={}, object='thread.message', role='user', run_id=None, thread_id='thread_H6JVYYouTCiLqXmTr5DXT7o3')], object='list', first_id='msg_H9LmJ1hWRfZzxGoTB3rdHUnB', last_id='msg_H9LmJ1hWRfZzxGoTB3rdHUnB', has_more=False)"
      ]
     },
     "execution_count": 9,
     "metadata": {},
     "output_type": "execute_result"
    }
   ],
   "source": [
    "messages = client.beta.threads.messages.list(\n",
    "  thread_id=thread.id\n",
    ")\n",
    "\n",
    "messages"
   ]
  },
  {
   "cell_type": "code",
   "execution_count": 10,
   "metadata": {},
   "outputs": [
    {
     "data": {
      "text/plain": [
       "'Preciso resolver a equação `3x + 11 = 14`. Pode me ajudar?'"
      ]
     },
     "execution_count": 10,
     "metadata": {},
     "output_type": "execute_result"
    }
   ],
   "source": [
    "new_message = messages.data[0].content[0].text.value\n",
    "\n",
    "new_message"
   ]
  },
  {
   "cell_type": "markdown",
   "metadata": {},
   "source": [
    "# <font color=\"pink\">`Exemplo 2:` Assistente de AI</font>"
   ]
  },
  {
   "cell_type": "code",
   "execution_count": 11,
   "metadata": {},
   "outputs": [
    {
     "data": {
      "text/plain": [
       "FileObject(id='file-WEcMs29yji7wYj8zfaqdnI3F', bytes=158643, created_at=1709245089, filename='WUpricing.pdf', object='file', purpose='assistants', status='processed', status_details=None)"
      ]
     },
     "execution_count": 11,
     "metadata": {},
     "output_type": "execute_result"
    }
   ],
   "source": [
    "# CARREGAR ARQUIVO (BASE DE CONHECIMENTO)\n",
    "\n",
    "file = client.files.create(file=open(\"WUpricing.pdf\", \"rb\"),\n",
    "                           purpose='assistants'\n",
    "                          )\n",
    "\n",
    "\n",
    "file"
   ]
  },
  {
   "cell_type": "code",
   "execution_count": 12,
   "metadata": {},
   "outputs": [],
   "source": [
    "assistant = client.beta.assistants.create(\n",
    "    name=\"Central de atendimento WU\",\n",
    "    instructions=\"Você é um chatbot de suporte ao cliente. Use sua base de conhecimento para melhor responder às dúvidas dos clientes.\",\n",
    "    tools=[{\"type\": \"retrieval\"}],\n",
    "    model=\"gpt-4-1106-preview\",\n",
    "    file_ids=[file.id]\n",
    ")\n"
   ]
  },
  {
   "cell_type": "code",
   "execution_count": 13,
   "metadata": {},
   "outputs": [],
   "source": [
    "thread = client.beta.threads.create()"
   ]
  },
  {
   "cell_type": "code",
   "execution_count": 14,
   "metadata": {},
   "outputs": [],
   "source": [
    "message = client.beta.threads.messages.create(\n",
    "  thread_id=thread.id,\n",
    "  role=\"user\",\n",
    "  content=\"Estou buscando informações gerais sobre preços.\",\n",
    "  file_ids=[file.id]\n",
    ")\n"
   ]
  },
  {
   "cell_type": "code",
   "execution_count": 15,
   "metadata": {},
   "outputs": [],
   "source": [
    "message = client.beta.threads.messages.create(\n",
    "  thread_id=thread.id,\n",
    "  role=\"user\",\n",
    "  content= \"Você pode me dizer se os saques são gratuitos?\",\n",
    "  file_ids=[file.id]\n",
    ")"
   ]
  },
  {
   "cell_type": "code",
   "execution_count": 16,
   "metadata": {},
   "outputs": [],
   "source": [
    "run = client.beta.threads.runs.create(\n",
    "  thread_id=thread.id,\n",
    "  assistant_id=assistant.id,\n",
    "  instructions=\"Por favor, dirija-se ao usuário como Piotr. O usuário possui uma conta premium.\"\n",
    ")\n"
   ]
  },
  {
   "cell_type": "code",
   "execution_count": 17,
   "metadata": {},
   "outputs": [],
   "source": [
    "messages = client.beta.threads.messages.list(\n",
    "  thread_id=thread.id\n",
    ")\n"
   ]
  },
  {
   "cell_type": "code",
   "execution_count": 18,
   "metadata": {},
   "outputs": [],
   "source": [
    "\n",
    "new_message = messages.data[0].content[0].text.value"
   ]
  },
  {
   "cell_type": "code",
   "execution_count": 19,
   "metadata": {},
   "outputs": [
    {
     "data": {
      "text/plain": [
       "'Você pode me dizer se os saques são gratuitos?'"
      ]
     },
     "execution_count": 19,
     "metadata": {},
     "output_type": "execute_result"
    }
   ],
   "source": [
    "new_message"
   ]
  },
  {
   "cell_type": "markdown",
   "metadata": {},
   "source": [
    "# <font color=\"pink\">`Exemplo 3:` Assistente de AI</font>"
   ]
  }
 ],
 "metadata": {
  "kernelspec": {
   "display_name": "venv_class",
   "language": "python",
   "name": "python3"
  },
  "language_info": {
   "codemirror_mode": {
    "name": "ipython",
    "version": 3
   },
   "file_extension": ".py",
   "mimetype": "text/x-python",
   "name": "python",
   "nbconvert_exporter": "python",
   "pygments_lexer": "ipython3",
   "version": "3.10.12"
  }
 },
 "nbformat": 4,
 "nbformat_minor": 2
}
