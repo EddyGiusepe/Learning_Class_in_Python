{
 "cells": [
  {
   "cell_type": "markdown",
   "metadata": {},
   "source": [
    "<h1 align=\"center\"><font color=\"red\">Data Class in Python</font></h1>"
   ]
  },
  {
   "cell_type": "markdown",
   "metadata": {},
   "source": [
    "<font color=\"yellow\">Data Scientist.: Dr. Eddy Giusepe Chirinos Isidro</font >"
   ]
  },
  {
   "cell_type": "markdown",
   "metadata": {},
   "source": [
    "Link de estudo:\n",
    "\n",
    "* [@dataclass do Python](https://awstip.com/data-class-in-python-7aadc0464002)"
   ]
  },
  {
   "cell_type": "markdown",
   "metadata": {},
   "source": [
    "# <font color=\"pink\">Introdução ao @dataclass</font>"
   ]
  },
  {
   "cell_type": "code",
   "execution_count": 1,
   "metadata": {},
   "outputs": [],
   "source": [
    "# Forma clássica sem usar @dataclass:\n",
    "\n",
    "class Point:\n",
    "    def __init__(self, x, y):\n",
    "        self.x = x\n",
    "        self.y = y\n",
    "\n",
    "    def __repr__(self):\n",
    "        return f\"Point(x={self.x}, y={self.y})\"\n",
    "\n",
    "    def __eq__(self, other):\n",
    "        if not isinstance(other, Point):\n",
    "            return False\n",
    "        return self.x == other.x and self.y == other.y\n",
    "    "
   ]
  },
  {
   "cell_type": "markdown",
   "metadata": {},
   "source": [
    "Esta classe define um ponto simples com coordenadas `x` e `y` . No entanto, envolve escrever código padrão para o construtor, representação de string (`__repr__`) e comparação de igualdade (`__eq__`).\n",
    "\n",
    "\n",
    "`Agora vamos ver como @dataclass simplifica esse código:`"
   ]
  },
  {
   "cell_type": "code",
   "execution_count": 2,
   "metadata": {},
   "outputs": [],
   "source": [
    "from dataclasses import dataclass\n",
    "\n",
    "@dataclass\n",
    "class Point:\n",
    "    x: int\n",
    "    y: int\n",
    "     "
   ]
  },
  {
   "cell_type": "markdown",
   "metadata": {},
   "source": [
    "Com `@dataclass`, alcançamos a mesma funcionalidade em apenas algumas linhas de código. Ele gera automaticamente os métodos `__init__` , `__repr__` e `__eq__` com base nos atributos da classe, eliminando a necessidade de escrevê-los manualmente.\n",
    "\n",
    "\n",
    "Aqui está a sintaxe básica:\n",
    "```\n",
    "from dataclasses import dataclass\n",
    "\n",
    "@dataclass\n",
    "class MyClass:\n",
    "    attribute1: type\n",
    "    attribute2: type\n",
    "```"
   ]
  },
  {
   "cell_type": "code",
   "execution_count": 3,
   "metadata": {},
   "outputs": [],
   "source": [
    "# Adicionando atributos:\n",
    "\n",
    "from dataclasses import dataclass\n",
    "\n",
    "@dataclass\n",
    "class Point:\n",
    "    x: int\n",
    "    y: int\n",
    "    label: str"
   ]
  },
  {
   "cell_type": "markdown",
   "metadata": {},
   "source": [
    "Agora, `Point` tem um terceiro atributo, `label`. Ao criar uma instância Point , você pode fornecer valores para todos os três atributos.\n",
    "\n",
    "\n",
    "\n",
    "Embora `@dataclass` gere métodos padrão como `__init__`, `__repr__` e `__eq__`, você pode personalizar esses métodos conforme necessário. Para fazer isso, você pode definir os métodos dentro da classe de dados, e eles substituirão os gerados. Por exemplo, você pode querer um método `__str__` personalizado:"
   ]
  },
  {
   "cell_type": "code",
   "execution_count": 4,
   "metadata": {},
   "outputs": [],
   "source": [
    "# Personalizando métodos de classe de dados:\n",
    "\n",
    "@dataclass\n",
    "class Point:\n",
    "    x: int\n",
    "    y: int\n",
    "    label: str\n",
    "\n",
    "    def __str__(self):\n",
    "        return f\"Point at ({self.x}, {self.y}) with label '{self.label}'\""
   ]
  },
  {
   "cell_type": "markdown",
   "metadata": {},
   "source": [
    "Aqui está um exemplo de classe de dados `ColoredPoint` que herda da classe de dados `Point`:"
   ]
  },
  {
   "cell_type": "code",
   "execution_count": 5,
   "metadata": {},
   "outputs": [],
   "source": [
    "# Herdando de @dataclass:\n",
    "\n",
    "@dataclass\n",
    "class ColoredPoint(Point):\n",
    "    color: str"
   ]
  },
  {
   "cell_type": "markdown",
   "metadata": {},
   "source": [
    "A classe `ColoredPoint` herda os atributos `x` , `y` e `label` de Point e adiciona um atributo color."
   ]
  },
  {
   "cell_type": "markdown",
   "metadata": {},
   "source": [
    "# <font color=\"pink\">Immutáveis Data Classes</font>"
   ]
  },
  {
   "cell_type": "code",
   "execution_count": 8,
   "metadata": {},
   "outputs": [],
   "source": [
    "# Para criar uma classe de dados imutável, basta definir frozen=Trueo seguinte:\n",
    "\n",
    "@dataclass(frozen=True)\n",
    "class ImmutablePoint:\n",
    "    x: int\n",
    "    y: int\n"
   ]
  },
  {
   "cell_type": "markdown",
   "metadata": {},
   "source": [
    "Depois que uma classe de dados é congelada (frozen), qualquer tentativa de modificar seus atributos resultará em um `AttributeError`. Por exemplo:"
   ]
  },
  {
   "cell_type": "code",
   "execution_count": 9,
   "metadata": {},
   "outputs": [
    {
     "name": "stdout",
     "output_type": "stream",
     "text": [
      "1\n"
     ]
    }
   ],
   "source": [
    "point = ImmutablePoint(1, 2)\n",
    "\n",
    "print(point.x)"
   ]
  },
  {
   "cell_type": "code",
   "execution_count": 10,
   "metadata": {},
   "outputs": [
    {
     "ename": "FrozenInstanceError",
     "evalue": "cannot assign to field 'x'",
     "output_type": "error",
     "traceback": [
      "\u001b[0;31m---------------------------------------------------------------------------\u001b[0m",
      "\u001b[0;31mFrozenInstanceError\u001b[0m                       Traceback (most recent call last)",
      "\u001b[1;32m/home/eddygiusepe/1_Eddy_Giusepe/Learning_Class_in_Python/Simple_Python_Code/Data_Class_in_Python.ipynb Cell 19\u001b[0m line \u001b[0;36m1\n\u001b[0;32m----> <a href='vscode-notebook-cell:/home/eddygiusepe/1_Eddy_Giusepe/Learning_Class_in_Python/Simple_Python_Code/Data_Class_in_Python.ipynb#X11sZmlsZQ%3D%3D?line=0'>1</a>\u001b[0m point\u001b[39m.\u001b[39;49mx \u001b[39m=\u001b[39m \u001b[39m3\u001b[39m\n",
      "File \u001b[0;32m<string>:4\u001b[0m, in \u001b[0;36m__setattr__\u001b[0;34m(self, name, value)\u001b[0m\n",
      "\u001b[0;31mFrozenInstanceError\u001b[0m: cannot assign to field 'x'"
     ]
    }
   ],
   "source": [
    "point.x = 3 # Raises AttributeError: can't set attribute"
   ]
  },
  {
   "cell_type": "markdown",
   "metadata": {},
   "source": [
    "# <font color=\"pink\">Recursos avançados</font>"
   ]
  },
  {
   "cell_type": "markdown",
   "metadata": {},
   "source": [
    "Por padrão, `@dataclass` usa o método `__init__` padrão para criação de objetos. No entanto, você pode especificar funções de fábrica personalizadas definindo um `@classmethod`."
   ]
  },
  {
   "cell_type": "code",
   "execution_count": 12,
   "metadata": {},
   "outputs": [],
   "source": [
    "from dataclasses import dataclass\n",
    "import math\n",
    "\n",
    "@dataclass\n",
    "class Point:\n",
    "    x: float\n",
    "    y: float\n",
    "\n",
    "    @classmethod\n",
    "    def from_polar(cls, r: float, theta: float) -> 'Point':\n",
    "        x = r * math.cos(theta)\n",
    "        y = r * math.sin(theta)\n",
    "        return cls(x, y)"
   ]
  },
  {
   "cell_type": "markdown",
   "metadata": {},
   "source": [
    "Isso permite criar instâncias de Point usando coordenadas polares:"
   ]
  },
  {
   "cell_type": "code",
   "execution_count": 13,
   "metadata": {},
   "outputs": [],
   "source": [
    "polar_point = Point.from_polar(2.0, math.pi / 4)"
   ]
  },
  {
   "cell_type": "code",
   "execution_count": 15,
   "metadata": {},
   "outputs": [
    {
     "name": "stdout",
     "output_type": "stream",
     "text": [
      "Point(x=1.4142135623730951, y=1.414213562373095)\n"
     ]
    }
   ],
   "source": [
    "print(polar_point)"
   ]
  },
  {
   "cell_type": "markdown",
   "metadata": {},
   "source": [
    "# <font color=\"pink\">Comparação e classificação</font>"
   ]
  },
  {
   "cell_type": "markdown",
   "metadata": {},
   "source": [
    "Se você deseja comparar instâncias da classe de dados `Person` com base em seu atributo `age`, você pode conseguir isso definindo um método de comparação personalizado usando o decorador `@total_ordering` do módulo `functools`. Veja como você pode fazer isso:"
   ]
  },
  {
   "cell_type": "code",
   "execution_count": 17,
   "metadata": {},
   "outputs": [],
   "source": [
    "from dataclasses import dataclass\n",
    "from functools import total_ordering\n",
    "\n",
    "\n",
    "@dataclass\n",
    "@total_ordering # Use o decorador total_ordering\n",
    "class Person:\n",
    "    name: str\n",
    "    age: int\n",
    "\n",
    "    # Defina o método de comparação com base na idade:\n",
    "    def __eq__(self, other):\n",
    "        if isinstance(other, Person):\n",
    "            return self.age == other.age\n",
    "        return NotImplemented\n",
    "    \n",
    "\n",
    "    def __lt__(self, other):\n",
    "        if isinstance(other, Person):\n",
    "            return self.age < other.age\n",
    "        return NotImplemented\n",
    "    "
   ]
  },
  {
   "cell_type": "code",
   "execution_count": 18,
   "metadata": {},
   "outputs": [],
   "source": [
    "# Criamos instancias de Pessoas:\n",
    "\n",
    "karina = Person(\"Karina\", 26)\n",
    "eddy = Person(\"Eddy\", 42)\n",
    "jesus = Person(\"Jesús\", 20)"
   ]
  },
  {
   "cell_type": "code",
   "execution_count": 19,
   "metadata": {},
   "outputs": [
    {
     "name": "stdout",
     "output_type": "stream",
     "text": [
      "True\n",
      "False\n"
     ]
    }
   ],
   "source": [
    "# Compare instâncias com base na idade:\n",
    "print(karina < eddy)     # True\n",
    "print(jesus >= karina)  # False"
   ]
  },
  {
   "cell_type": "code",
   "execution_count": null,
   "metadata": {},
   "outputs": [],
   "source": []
  }
 ],
 "metadata": {
  "kernelspec": {
   "display_name": "venv_class",
   "language": "python",
   "name": "python3"
  },
  "language_info": {
   "codemirror_mode": {
    "name": "ipython",
    "version": 3
   },
   "file_extension": ".py",
   "mimetype": "text/x-python",
   "name": "python",
   "nbconvert_exporter": "python",
   "pygments_lexer": "ipython3",
   "version": "3.10.12"
  }
 },
 "nbformat": 4,
 "nbformat_minor": 2
}
