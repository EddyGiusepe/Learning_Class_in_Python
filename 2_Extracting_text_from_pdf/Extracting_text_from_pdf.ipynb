{
 "cells": [
  {
   "cell_type": "markdown",
   "metadata": {},
   "source": [
    "<h1 align=\"center\"><font color=\"red\">Parsing PDFs using the pdfplumber Library in Python</font></h1>"
   ]
  },
  {
   "cell_type": "markdown",
   "metadata": {},
   "source": [
    "<font color=\"yellow\">Data Scientist.: Dr. Eddy Giusepe Chirinos Isidro</font>"
   ]
  },
  {
   "cell_type": "markdown",
   "metadata": {},
   "source": [
    "Links de estudo:\n",
    "\n",
    "* [Extracting Tables from a PDF](https://github.com/patchy631/machine-learning/blob/main/random/extracting_text_from_pdf.ipynb)\n",
    "\n",
    "* [pdfplumber](https://github.com/jsvine/pdfplumber)\n",
    "\n",
    "* [Examples pdfplumber](https://github.com/jsvine/pdfplumber/blob/stable/examples/notebooks/extract-table-nics.ipynb)\n",
    "\n",
    "* [MEDIUM: A Step-by-Step Guide to Parsing PDFs using the pdfplumber Library In Python](https://medium.com/@azhar.sayyad6/a-step-by-step-guide-to-parsing-pdfs-using-the-pdfplumber-library-in-python-c12d94ae9f07)\n"
   ]
  },
  {
   "cell_type": "markdown",
   "metadata": {},
   "source": [
    "# <font color=\"gree\">Exemplo N° 1</font>"
   ]
  },
  {
   "cell_type": "code",
   "execution_count": null,
   "metadata": {},
   "outputs": [],
   "source": [
    "import pdfplumber\n",
    "import pandas as pd\n",
    "from PIL import Image\n",
    "\n",
    "\n",
    "\n",
    "pdf = pdfplumber.open(\"./warn_report.pdf\")\n",
    "\n",
    "# Carregar a página 0:\n",
    "p0 = pdf.pages[0]\n",
    "\n",
    "im = p0.to_image()\n",
    "im"
   ]
  },
  {
   "cell_type": "markdown",
   "metadata": {},
   "source": [
    "<font color=\"orange\">O método mais simples é o método `extract_text()`, que retorna uma string contendo todo o TEXTO do PDF.</font>"
   ]
  },
  {
   "cell_type": "code",
   "execution_count": null,
   "metadata": {},
   "outputs": [],
   "source": [
    "text = p0.extract_text()\n",
    "\n",
    "print(text)"
   ]
  },
  {
   "cell_type": "markdown",
   "metadata": {},
   "source": [
    "<font color=\"orange\">O método `extract_table()`, a seguir, retorna uma lista de listas contendo os dados das TABELAS do PDF.</font>"
   ]
  },
  {
   "cell_type": "code",
   "execution_count": null,
   "metadata": {},
   "outputs": [],
   "source": [
    "table = p0.extract_table()\n",
    "\n",
    "table"
   ]
  },
  {
   "cell_type": "code",
   "execution_count": null,
   "metadata": {},
   "outputs": [],
   "source": [
    "table[1:3]"
   ]
  },
  {
   "cell_type": "code",
   "execution_count": null,
   "metadata": {},
   "outputs": [],
   "source": [
    "len(table[1:3])"
   ]
  },
  {
   "cell_type": "code",
   "execution_count": null,
   "metadata": {},
   "outputs": [],
   "source": [
    "df = pd.DataFrame(table[1:], columns=table[0])\n",
    "\n",
    "for column in [\"Effective\", \"Received\"]:\n",
    "    df[column] = df[column].str.replace(\" \", \"\")\n",
    "    "
   ]
  },
  {
   "cell_type": "code",
   "execution_count": null,
   "metadata": {},
   "outputs": [],
   "source": [
    "\n",
    "df.head()"
   ]
  },
  {
   "cell_type": "code",
   "execution_count": null,
   "metadata": {},
   "outputs": [],
   "source": [
    "df.shape"
   ]
  },
  {
   "cell_type": "markdown",
   "metadata": {},
   "source": [
    "# <font color=\"gree\">Exemplo N° 2</font>"
   ]
  },
  {
   "cell_type": "code",
   "execution_count": null,
   "metadata": {},
   "outputs": [],
   "source": [
    "import pdfplumber\n",
    "from PIL import Image\n",
    "\n",
    "# Abrir o PDF:\n",
    "with pdfplumber.open(\"./warn_report.pdf\") as pdf:\n",
    "    # Carregar a página 0:\n",
    "    pag_0 = pdf.pages[0]\n",
    "    # Extrair o text:\n",
    "    text = pag_0.extract_text()\n",
    "    print(text)\n",
    "\n",
    "    # Extrair o data:\n",
    "    tables = pag_0.extract_table()\n",
    "    for table in tables:\n",
    "        print(table)\n",
    "\n",
    "    # Extrair images:\n",
    "    images = pag_0.to_image()\n",
    "    images = images.original.convert(\"RGB\")\n",
    "    images.save(f\"image.jpg\", format =\"JPEG\")\n",
    "            "
   ]
  },
  {
   "cell_type": "markdown",
   "metadata": {},
   "source": [
    "# <font color=\"gree\">Exemplo N° 3</font>"
   ]
  },
  {
   "cell_type": "code",
   "execution_count": 9,
   "metadata": {},
   "outputs": [
    {
     "data": {
      "image/png": "[encoded data removed]",
      "text/plain": [
       "<pdfplumber.display.PageImage at 0x7d360dc475e0>"
      ]
     },
     "execution_count": 9,
     "metadata": {},
     "output_type": "execute_result"
    }
   ],
   "source": [
    "import pdfplumber\n",
    "import pandas as pd\n",
    "from PIL import Image\n",
    "\n",
    "\n",
    "\n",
    "pdf = pdfplumber.open(\"./9.1 - Secretaria de Saúde - Cidadão.pdf\")\n",
    "\n",
    "# Carregar a página 40:\n",
    "p40 = pdf.pages[39]\n",
    "\n",
    "im = p40.to_image()\n",
    "im"
   ]
  },
  {
   "cell_type": "code",
   "execution_count": 10,
   "metadata": {},
   "outputs": [
    {
     "data": {
      "text/plain": [
       "[['LOCAL', 'ENDEREÇO', 'ÁREA DE\\nABRANGÊNCIA', 'FUNCIONAMENTO', 'OBSERVAÇÃO'],\n",
       " ['Ambulatório de\\nestomaterapia do\\nInstituto Hospital de\\nBase de Brasília',\n",
       "  'Hospital de Base:\\nSMHS - Área\\nEspecial, Q. 101 - Asa\\nSul, Brasília - DF,\\n70330-150.\\nAmbulatório de\\nProctologia.',\n",
       "  'Asa Sul e Lago Sul',\n",
       "  '2ª a 6ª feira\\n08:00 às 12:00\\n13:00 às 16:00',\n",
       "  ''],\n",
       " ['Ambulatório de\\nestomias da Policlínica\\nda Asa Norte- HRAN',\n",
       "  'SMHN Q 2 - Asa\\nNorte, Brasília - DF,\\n70710-100. Hospital\\nRegional da Asa\\nNorte- ambulatório,\\nsala 20.',\n",
       "  'Asa Norte, Lago\\nNorte, Varjão,\\nCruzeiro, Sudoeste,\\nOctogonal.',\n",
       "  '6ª feira\\n07:00 às 11:00 - retornos.\\n14:00 às 17:00 - novos\\nusuários para avaliação e\\ncadastro.',\n",
       "  'Durante a pandemia pelo\\nCOVID-19 o atendimento está\\nsendo realizado no CEDOH\\n(Centro Especializado em\\nDiabetes, Obesidade e\\nHipertensão). Endereço: EQN\\n208/408, SHCN, Brasília - DF,\\n70853-450- Asa Norte'],\n",
       " ['Ambulatório de\\nestomias do Hospital\\nMaterno Infantil de\\nBrasília (HMIB)',\n",
       "  'Av. L2 Sul SGAS\\nQuadra 608 Módulo A\\n- Asa Sul, DF, 70203-\\n900',\n",
       "  'Todo Distrito Federal',\n",
       "  '5ª feira\\n07:00 às 11:00',\n",
       "  'Exclusivo para crianças'],\n",
       " ['Ambulatório de\\nestomias da Policlínica\\ndo Núcleo Bandeirante',\n",
       "  '3ª Avenida AE\\n3, Núcleo\\nBandeirante\\n- Brasília, DF -\\nCEP: 71720-586',\n",
       "  'Núcleo Bandeirante,\\nRiacho Fundo I e II,\\nPark Way,\\nCandogolândia,\\nGuará, Estrutural e\\nSetor de Industria e\\nAbastecimento (SIA)',\n",
       "  '3ª e 4ª feira\\n08:00 às 11:30\\n13:00 às 18:00',\n",
       "  ''],\n",
       " ['Ambulatório de\\nestomias da Policlínica\\nde Planaltina',\n",
       "  'Av. WL 04, St.\\nHospitalar Oeste -\\nÁrea Especial -\\nPlanaltina DF.\\nCEP 73310-000. Ao',\n",
       "  'Planaltina',\n",
       "  '3ª e 5ª feira\\n08:00 às 11:30\\n14:00 às 17:00',\n",
       "  '']]"
      ]
     },
     "execution_count": 10,
     "metadata": {},
     "output_type": "execute_result"
    }
   ],
   "source": [
    "table = p40.extract_table()\n",
    "\n",
    "table"
   ]
  },
  {
   "cell_type": "code",
   "execution_count": 23,
   "metadata": {},
   "outputs": [
    {
     "data": {
      "text/html": [
       "<div>\n",
       "<style scoped>\n",
       "    .dataframe tbody tr th:only-of-type {\n",
       "        vertical-align: middle;\n",
       "    }\n",
       "\n",
       "    .dataframe tbody tr th {\n",
       "        vertical-align: top;\n",
       "    }\n",
       "\n",
       "    .dataframe thead th {\n",
       "        text-align: right;\n",
       "    }\n",
       "</style>\n",
       "<table border=\"1\" class=\"dataframe\">\n",
       "  <thead>\n",
       "    <tr style=\"text-align: right;\">\n",
       "      <th></th>\n",
       "      <th>LOCAL</th>\n",
       "      <th>ENDEREÇO</th>\n",
       "      <th>ÁREA DE\\nABRANGÊNCIA</th>\n",
       "      <th>FUNCIONAMENTO</th>\n",
       "      <th>OBSERVAÇÃO</th>\n",
       "    </tr>\n",
       "  </thead>\n",
       "  <tbody>\n",
       "    <tr>\n",
       "      <th>0</th>\n",
       "      <td>Ambulatório de estomaterapia do Instituto Hosp...</td>\n",
       "      <td>Hospital de Base: SMHS - Área Especial, Q. 101...</td>\n",
       "      <td>Asa Sul e Lago Sul</td>\n",
       "      <td>2ª a 6ª feira 08:00 às 12:00 13:00 às 16:00</td>\n",
       "      <td></td>\n",
       "    </tr>\n",
       "    <tr>\n",
       "      <th>1</th>\n",
       "      <td>Ambulatório de estomias da Policlínica da Asa ...</td>\n",
       "      <td>SMHN Q 2 - Asa Norte, Brasília - DF, 70710-100...</td>\n",
       "      <td>Asa Norte, Lago Norte, Varjão, Cruzeiro, Sudoe...</td>\n",
       "      <td>6ª feira 07:00 às 11:00 - retornos. 14:00 às 1...</td>\n",
       "      <td>Durante a pandemia pelo COVID-19 o atendimento...</td>\n",
       "    </tr>\n",
       "    <tr>\n",
       "      <th>2</th>\n",
       "      <td>Ambulatório de estomias do Hospital Materno In...</td>\n",
       "      <td>Av. L2 Sul SGAS Quadra 608 Módulo A - Asa Sul,...</td>\n",
       "      <td>Todo Distrito Federal</td>\n",
       "      <td>5ª feira 07:00 às 11:00</td>\n",
       "      <td>Exclusivo para crianças</td>\n",
       "    </tr>\n",
       "    <tr>\n",
       "      <th>3</th>\n",
       "      <td>Ambulatório de estomias da Policlínica do Núcl...</td>\n",
       "      <td>3ª Avenida AE 3, Núcleo Bandeirante - Brasília...</td>\n",
       "      <td>Núcleo Bandeirante, Riacho Fundo I e II, Park ...</td>\n",
       "      <td>3ª e 4ª feira 08:00 às 11:30 13:00 às 18:00</td>\n",
       "      <td></td>\n",
       "    </tr>\n",
       "    <tr>\n",
       "      <th>4</th>\n",
       "      <td>Ambulatório de estomias da Policlínica de Plan...</td>\n",
       "      <td>Av. WL 04, St. Hospitalar Oeste - Área Especia...</td>\n",
       "      <td>Planaltina</td>\n",
       "      <td>3ª e 5ª feira 08:00 às 11:30 14:00 às 17:00</td>\n",
       "      <td></td>\n",
       "    </tr>\n",
       "  </tbody>\n",
       "</table>\n",
       "</div>"
      ],
      "text/plain": [
       "                                               LOCAL  \\\n",
       "0  Ambulatório de estomaterapia do Instituto Hosp...   \n",
       "1  Ambulatório de estomias da Policlínica da Asa ...   \n",
       "2  Ambulatório de estomias do Hospital Materno In...   \n",
       "3  Ambulatório de estomias da Policlínica do Núcl...   \n",
       "4  Ambulatório de estomias da Policlínica de Plan...   \n",
       "\n",
       "                                            ENDEREÇO  \\\n",
       "0  Hospital de Base: SMHS - Área Especial, Q. 101...   \n",
       "1  SMHN Q 2 - Asa Norte, Brasília - DF, 70710-100...   \n",
       "2  Av. L2 Sul SGAS Quadra 608 Módulo A - Asa Sul,...   \n",
       "3  3ª Avenida AE 3, Núcleo Bandeirante - Brasília...   \n",
       "4  Av. WL 04, St. Hospitalar Oeste - Área Especia...   \n",
       "\n",
       "                                ÁREA DE\\nABRANGÊNCIA  \\\n",
       "0                                 Asa Sul e Lago Sul   \n",
       "1  Asa Norte, Lago Norte, Varjão, Cruzeiro, Sudoe...   \n",
       "2                              Todo Distrito Federal   \n",
       "3  Núcleo Bandeirante, Riacho Fundo I e II, Park ...   \n",
       "4                                         Planaltina   \n",
       "\n",
       "                                       FUNCIONAMENTO  \\\n",
       "0        2ª a 6ª feira 08:00 às 12:00 13:00 às 16:00   \n",
       "1  6ª feira 07:00 às 11:00 - retornos. 14:00 às 1...   \n",
       "2                            5ª feira 07:00 às 11:00   \n",
       "3        3ª e 4ª feira 08:00 às 11:30 13:00 às 18:00   \n",
       "4        3ª e 5ª feira 08:00 às 11:30 14:00 às 17:00   \n",
       "\n",
       "                                          OBSERVAÇÃO  \n",
       "0                                                     \n",
       "1  Durante a pandemia pelo COVID-19 o atendimento...  \n",
       "2                            Exclusivo para crianças  \n",
       "3                                                     \n",
       "4                                                     "
      ]
     },
     "execution_count": 23,
     "metadata": {},
     "output_type": "execute_result"
    }
   ],
   "source": [
    "df = pd.DataFrame(table[1:], columns=table[0])\n",
    "\n",
    "for column in [\"LOCAL\",\t\"ENDEREÇO\",\t\"ÁREA DE\\nABRANGÊNCIA\",\t\"FUNCIONAMENTO\", \"OBSERVAÇÃO\"]:\n",
    "    df[column] = df[column].str.replace(\"\\n\", \" \")\n",
    "\n",
    "df\n"
   ]
  },
  {
   "cell_type": "code",
   "execution_count": 24,
   "metadata": {},
   "outputs": [
    {
     "name": "stdout",
     "output_type": "stream",
     "text": [
      "Ambulatório de estomaterapia do Instituto Hospital de Base de Brasília\n"
     ]
    }
   ],
   "source": [
    "print(df[\"LOCAL\"].iloc[0])"
   ]
  },
  {
   "cell_type": "code",
   "execution_count": 20,
   "metadata": {},
   "outputs": [],
   "source": [
    "df.to_csv(\"saude_Table.csv\", index=False)"
   ]
  }
 ],
 "metadata": {
  "kernelspec": {
   "display_name": "venv_class",
   "language": "python",
   "name": "python3"
  },
  "language_info": {
   "codemirror_mode": {
    "name": "ipython",
    "version": 3
   },
   "file_extension": ".py",
   "mimetype": "text/x-python",
   "name": "python",
   "nbconvert_exporter": "python",
   "pygments_lexer": "ipython3",
   "version": "3.10.12"
  }
 },
 "nbformat": 4,
 "nbformat_minor": 2
}
