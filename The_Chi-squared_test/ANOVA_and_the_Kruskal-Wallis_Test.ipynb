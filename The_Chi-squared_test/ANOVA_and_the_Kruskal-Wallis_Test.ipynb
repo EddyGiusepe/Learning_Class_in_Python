{
 "cells": [
  {
   "cell_type": "markdown",
   "metadata": {},
   "source": [
    "# <h1 align=\"center\"><font color=\"red\">Aproveitando os testes `ANOVA` e `Kruskal-Wallis` para analisar o impacto da Grande Recessão nos preços da habitação</font></h1>"
   ]
  },
  {
   "cell_type": "markdown",
   "metadata": {},
   "source": [
    "<font color=\"yellow\">Data Scientist.: Dr. Eddy Giusepe Chirinos Isidro</font>"
   ]
  },
  {
   "cell_type": "markdown",
   "metadata": {},
   "source": [
    "Link de estudo:\n",
    "\n",
    "* [Machine Learning Mastery: ANOVA and the Kruskal-Wallis Test](https://machinelearningmastery.com/leveraging-anova-and-kruskal-wallis-tests-to-analyze-the-impact-of-the-great-recession-on-housing-prices/?utm_source=drip&utm_medium=email&utm_campaign=Garage+or+Not%3F+Housing+Insights+Through+the+Chi-Squared+Test+for+Ames%2C+Iowa&utm_content=Garage+or+Not%3F)"
   ]
  },
  {
   "cell_type": "markdown",
   "metadata": {},
   "source": [
    "# <font color=\"gree\">Contextualizando</font>"
   ]
  },
  {
   "cell_type": "markdown",
   "metadata": {},
   "source": [
    "<font color=\"orange\">No mundo imobiliário, vários fatores influenciam os preços dos imóveis. A economia, a procura do mercado, a localização e até o ano em que um imóvel é vendido podem desempenhar papéis significativos. Os anos de 2007 a 2009 marcaram uma época tumultuada para o mercado imobiliário dos EUA. Este período, muitas vezes referido como a Grande Recessão, assistiu a um declínio drástico nos valores das casas, a um aumento nas execuções hipotecárias e a uma turbulência generalizada nos mercados financeiros. O impacto da recessão nos preços da habitação foi profundo, com muitos proprietários a encontrarem-se em casas que valiam menos do que as suas hipotecas. O efeito cascata desta recessão foi sentido em todo o país, com algumas áreas a registar quedas mais acentuadas e recuperações mais lentas do que outras.\n",
    "\n",
    "Dado este cenário, é particularmente intrigante analisar os dados habitacionais de Ames, Iowa, uma vez que o conjunto de dados abrange de 2006 a 2010, encapsulando o auge e as consequências da Grande Recessão. O ano de venda, em meio a tanta volatilidade econômica, influencia o preço de venda em Ames? Nesta postagem, você se aprofundará no conjunto de dados da Ames Housing para explorar essa consulta usando Análise Exploratória de Dados (EDA) e dois testes estatísticos: ANOVA e o Teste Kruskal-Wallis.</font>\n",
    "\n",
    "\n"
   ]
  },
  {
   "cell_type": "code",
   "execution_count": null,
   "metadata": {
    "vscode": {
     "languageId": "plaintext"
    }
   },
   "outputs": [],
   "source": []
  },
  {
   "cell_type": "code",
   "execution_count": null,
   "metadata": {
    "vscode": {
     "languageId": "plaintext"
    }
   },
   "outputs": [],
   "source": []
  },
  {
   "cell_type": "code",
   "execution_count": null,
   "metadata": {
    "vscode": {
     "languageId": "plaintext"
    }
   },
   "outputs": [],
   "source": []
  },
  {
   "cell_type": "code",
   "execution_count": null,
   "metadata": {
    "vscode": {
     "languageId": "plaintext"
    }
   },
   "outputs": [],
   "source": []
  }
 ],
 "metadata": {
  "kernelspec": {
   "display_name": "venv_class",
   "language": "python",
   "name": "python3"
  },
  "language_info": {
   "codemirror_mode": {
    "name": "ipython",
    "version": 3
   },
   "file_extension": ".py",
   "mimetype": "text/x-python",
   "name": "python",
   "nbconvert_exporter": "python",
   "pygments_lexer": "ipython3",
   "version": "3.10.12"
  }
 },
 "nbformat": 4,
 "nbformat_minor": 2
}
