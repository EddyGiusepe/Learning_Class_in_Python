{
  "cells": [
    {
      "cell_type": "markdown",
      "metadata": {},
      "source": [
        "# <h1 align=\"center\"><font color=\"gree\">The Complete Guide to Data Version Control With DVC</font></h1>"
      ]
    },
    {
      "cell_type": "markdown",
      "metadata": {},
      "source": [
        "<font color=\"pink\">Senior Data Scientist.: Dr. Eddy Giusepe Chirinos Isidro</font>\n"
      ]
    },
    {
      "cell_type": "markdown",
      "metadata": {},
      "source": [
        "Link de estudo:\n",
        "\n",
        "* [Datacamp: Bex Tuychiev](https://www.datacamp.com/tutorial/data-version-control-dvc)"
      ]
    },
    {
      "cell_type": "markdown",
      "metadata": {},
      "source": [
        "# <font color=\"red\">Contextualização</font>"
      ]
    },
    {
      "cell_type": "markdown",
      "metadata": {},
      "source": [
        "Neste Notebook aprenderemos os fundamentos do controle de versão de dados no `DVC` e como usá-lo para grandes conjuntos de dados junto com o `Git` para gerenciar projetos de ciência de dados e aprendizado de máquina. O Data Version Control (`DVC`) é um divisor de águas para cientistas de dados e engenheiros de ML. Ele nos permite nos beneficiar das melhores práticas de engenharia de software que antes eram prejudicadas pelo enorme tamanho dos conjuntos de dados modernos. "
      ]
    },
    {
      "cell_type": "markdown",
      "metadata": {},
      "source": [
        "# <font color=\"red\">Benefícios do uso do DVC</font>"
      ]
    },
    {
      "cell_type": "markdown",
      "metadata": {},
      "source": [
        "Estas são algumas áreas específicas onde o `DVC` pode ajudar a aprimorar seus projetos de ciência de dados e aprendizado de máquina.\n",
        "\n",
        "* `Experimentos:` O DVC permite que você veja exatamente como seus dados e modelos evoluíram ao longo do tempo. Precisa revisitar um experimento de alguns meses atrás? O `DVC` pode mostrar a versão específica dos dados usada, permitindo que você compare e analise com facilidade.\n",
        "\n",
        "* `Colaboração:` Compartilhar projetos de ciência de dados com colegas pode ser confuso. O `DVC` garante que todos trabalhem com as mesmas versões de dados, eliminando confusão e desperdício de tempo.\n",
        "\n",
        "* `Reprodutibilidade:` Um dos maiores desafios na ciência de dados é replicar resultados. O `DVC` permite que você capture os dados exatos e as versões do modelo usadas em seus experimentos, facilitando sua reprodução posterior."
      ]
    },
    {
      "cell_type": "markdown",
      "metadata": {},
      "source": [
        "# <font color=\"red\">Introdução ao DVC: tutorial prático</font>"
      ]
    },
    {
      "cell_type": "code",
      "execution_count": 1,
      "metadata": {},
      "outputs": [
        {
          "name": "stdout",
          "output_type": "stream",
          "text": [
            "  % Total    % Received % Xferd  Average Speed   Time    Time     Time  Current\n",
            "                                 Dload  Upload   Total   Spent    Left  Speed\n",
            "100 2511k  100 2511k    0     0  1730k      0  0:00:01  0:00:01 --:--:-- 1729k\n"
          ]
        }
      ],
      "source": [
        "# Descarregamos um CSV:\n",
        "\n",
        "\n",
        "! curl https://raw.githubusercontent.com/BexTuychiev/medium_stories/master/fu-datasets/diamonds.csv -o /home/eddygiusepe/2_EddyGiusepe_Estudo/Learning_Class_in_Python/8_DVC/dvc_tutorial/data/diamonds.csv"
      ]
    },
    {
      "cell_type": "code",
      "execution_count": null,
      "metadata": {},
      "outputs": [],
      "source": []
    },
    {
      "cell_type": "code",
      "execution_count": null,
      "metadata": {},
      "outputs": [],
      "source": []
    },
    {
      "cell_type": "code",
      "execution_count": null,
      "metadata": {},
      "outputs": [],
      "source": []
    },
    {
      "cell_type": "code",
      "execution_count": null,
      "metadata": {},
      "outputs": [],
      "source": []
    }
  ],
  "metadata": {
    "colab": {
      "provenance": []
    },
    "interpreter": {
      "hash": "74dbfc52f168b3071122cf9c0781887d6121c12f9c1b29bca56ce221bccb2a07"
    },
    "kernelspec": {
      "display_name": "Python 3 (ipykernel)",
      "language": "python",
      "name": "python3"
    },
    "language_info": {
      "codemirror_mode": {
        "name": "ipython",
        "version": 3
      },
      "file_extension": ".py",
      "mimetype": "text/x-python",
      "name": "python",
      "nbconvert_exporter": "python",
      "pygments_lexer": "ipython3",
      "version": "3.10.12"
    },
    "toc": {
      "base_numbering": 1,
      "nav_menu": {},
      "number_sections": true,
      "sideBar": true,
      "skip_h1_title": false,
      "title_cell": "Table of Contents",
      "title_sidebar": "Contents",
      "toc_cell": false,
      "toc_position": {},
      "toc_section_display": true,
      "toc_window_display": false
    }
  },
  "nbformat": 4,
  "nbformat_minor": 0
}
